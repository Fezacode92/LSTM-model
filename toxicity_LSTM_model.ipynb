{
  "nbformat": 4,
  "nbformat_minor": 0,
  "metadata": {
    "colab": {
      "provenance": [],
      "authorship_tag": "ABX9TyO1954tViRljeqGR2YNQRu3",
      "include_colab_link": true
    },
    "kernelspec": {
      "name": "python3",
      "display_name": "Python 3"
    },
    "language_info": {
      "name": "python"
    },
    "accelerator": "GPU",
    "gpuClass": "standard"
  },
  "cells": [
    {
      "cell_type": "markdown",
      "metadata": {
        "id": "view-in-github",
        "colab_type": "text"
      },
      "source": [
        "<a href=\"https://colab.research.google.com/github/Fezacode92/Fezacode92/blob/main/toxicity_LSTM_model.ipynb\" target=\"_parent\"><img src=\"https://colab.research.google.com/assets/colab-badge.svg\" alt=\"Open In Colab\"/></a>"
      ]
    },
    {
      "cell_type": "code",
      "execution_count": null,
      "metadata": {
        "colab": {
          "base_uri": "https://localhost:8080/"
        },
        "id": "qbJajT7_iheL",
        "outputId": "5ed242dc-34ad-490f-b4d4-8aed22f4ec3c"
      },
      "outputs": [
        {
          "output_type": "stream",
          "name": "stdout",
          "text": [
            "Looking in indexes: https://pypi.org/simple, https://us-python.pkg.dev/colab-wheels/public/simple/\n",
            "Requirement already satisfied: tensorflow in /usr/local/lib/python3.8/dist-packages (2.9.2)\n",
            "\u001b[31mERROR: Could not find a version that satisfies the requirement tensforflow-gpu (from versions: none)\u001b[0m\n",
            "\u001b[31mERROR: No matching distribution found for tensforflow-gpu\u001b[0m\n"
          ]
        }
      ],
      "source": [
        "!pip install tensorflow tensforflow-gpu pandas matplotlib sklearn"
      ]
    },
    {
      "cell_type": "code",
      "source": [
        "import os\n",
        "import pandas as pd\n",
        "import tensorflow as tf\n",
        "import numpy as np"
      ],
      "metadata": {
        "id": "cpc9Oi66jKZh"
      },
      "execution_count": null,
      "outputs": []
    },
    {
      "cell_type": "markdown",
      "source": [
        "# New Section"
      ],
      "metadata": {
        "id": "wQKu-onek0qX"
      }
    },
    {
      "cell_type": "code",
      "source": [
        "df = pd.read_csv('/content/train.csv',error_bad_lines=False,engine=\"python\")"
      ],
      "metadata": {
        "colab": {
          "base_uri": "https://localhost:8080/"
        },
        "id": "CYeQeB1qjTVb",
        "outputId": "f49630da-3182-4505-c6a3-7d1588be1329"
      },
      "execution_count": 17,
      "outputs": [
        {
          "output_type": "stream",
          "name": "stderr",
          "text": [
            "/usr/local/lib/python3.8/dist-packages/IPython/core/interactiveshell.py:3326: FutureWarning: The error_bad_lines argument has been deprecated and will be removed in a future version.\n",
            "\n",
            "\n",
            "  exec(code_obj, self.user_global_ns, self.user_ns)\n",
            "Skipping line 4839: unexpected end of data\n"
          ]
        }
      ]
    },
    {
      "cell_type": "code",
      "source": [
        "df.head()"
      ],
      "metadata": {
        "id": "OZm60HbWmVyR",
        "colab": {
          "base_uri": "https://localhost:8080/",
          "height": 461
        },
        "outputId": "1b2a9181-559d-4ab9-d45a-f6db227aa09a"
      },
      "execution_count": 18,
      "outputs": [
        {
          "output_type": "execute_result",
          "data": {
            "text/plain": [
              "                 id                                       comment_text  toxic  \\\n",
              "0  0000997932d777bf  Explanation\\nWhy the edits made under my usern...      0   \n",
              "1  000103f0d9cfb60f  D'aww! He matches this background colour I'm s...      0   \n",
              "2  000113f07ec002fd  Hey man, I'm really not trying to edit war. It...      0   \n",
              "3  0001b41b1c6bb37e  \"\\nMore\\nI can't make any real suggestions on ...      0   \n",
              "4  0001d958c54c6e35  You, sir, are my hero. Any chance you remember...      0   \n",
              "\n",
              "   severe_toxic  obscene  threat  insult  identity_hate  \n",
              "0             0        0       0       0              0  \n",
              "1             0        0       0       0              0  \n",
              "2             0        0       0       0              0  \n",
              "3             0        0       0       0              0  \n",
              "4             0        0       0       0              0  "
            ],
            "text/html": [
              "\n",
              "  <div id=\"df-bb46d534-6c8f-4ed9-a5d3-d6b3e3d72401\">\n",
              "    <div class=\"colab-df-container\">\n",
              "      <div>\n",
              "<style scoped>\n",
              "    .dataframe tbody tr th:only-of-type {\n",
              "        vertical-align: middle;\n",
              "    }\n",
              "\n",
              "    .dataframe tbody tr th {\n",
              "        vertical-align: top;\n",
              "    }\n",
              "\n",
              "    .dataframe thead th {\n",
              "        text-align: right;\n",
              "    }\n",
              "</style>\n",
              "<table border=\"1\" class=\"dataframe\">\n",
              "  <thead>\n",
              "    <tr style=\"text-align: right;\">\n",
              "      <th></th>\n",
              "      <th>id</th>\n",
              "      <th>comment_text</th>\n",
              "      <th>toxic</th>\n",
              "      <th>severe_toxic</th>\n",
              "      <th>obscene</th>\n",
              "      <th>threat</th>\n",
              "      <th>insult</th>\n",
              "      <th>identity_hate</th>\n",
              "    </tr>\n",
              "  </thead>\n",
              "  <tbody>\n",
              "    <tr>\n",
              "      <th>0</th>\n",
              "      <td>0000997932d777bf</td>\n",
              "      <td>Explanation\\nWhy the edits made under my usern...</td>\n",
              "      <td>0</td>\n",
              "      <td>0</td>\n",
              "      <td>0</td>\n",
              "      <td>0</td>\n",
              "      <td>0</td>\n",
              "      <td>0</td>\n",
              "    </tr>\n",
              "    <tr>\n",
              "      <th>1</th>\n",
              "      <td>000103f0d9cfb60f</td>\n",
              "      <td>D'aww! He matches this background colour I'm s...</td>\n",
              "      <td>0</td>\n",
              "      <td>0</td>\n",
              "      <td>0</td>\n",
              "      <td>0</td>\n",
              "      <td>0</td>\n",
              "      <td>0</td>\n",
              "    </tr>\n",
              "    <tr>\n",
              "      <th>2</th>\n",
              "      <td>000113f07ec002fd</td>\n",
              "      <td>Hey man, I'm really not trying to edit war. It...</td>\n",
              "      <td>0</td>\n",
              "      <td>0</td>\n",
              "      <td>0</td>\n",
              "      <td>0</td>\n",
              "      <td>0</td>\n",
              "      <td>0</td>\n",
              "    </tr>\n",
              "    <tr>\n",
              "      <th>3</th>\n",
              "      <td>0001b41b1c6bb37e</td>\n",
              "      <td>\"\\nMore\\nI can't make any real suggestions on ...</td>\n",
              "      <td>0</td>\n",
              "      <td>0</td>\n",
              "      <td>0</td>\n",
              "      <td>0</td>\n",
              "      <td>0</td>\n",
              "      <td>0</td>\n",
              "    </tr>\n",
              "    <tr>\n",
              "      <th>4</th>\n",
              "      <td>0001d958c54c6e35</td>\n",
              "      <td>You, sir, are my hero. Any chance you remember...</td>\n",
              "      <td>0</td>\n",
              "      <td>0</td>\n",
              "      <td>0</td>\n",
              "      <td>0</td>\n",
              "      <td>0</td>\n",
              "      <td>0</td>\n",
              "    </tr>\n",
              "  </tbody>\n",
              "</table>\n",
              "</div>\n",
              "      <button class=\"colab-df-convert\" onclick=\"convertToInteractive('df-bb46d534-6c8f-4ed9-a5d3-d6b3e3d72401')\"\n",
              "              title=\"Convert this dataframe to an interactive table.\"\n",
              "              style=\"display:none;\">\n",
              "        \n",
              "  <svg xmlns=\"http://www.w3.org/2000/svg\" height=\"24px\"viewBox=\"0 0 24 24\"\n",
              "       width=\"24px\">\n",
              "    <path d=\"M0 0h24v24H0V0z\" fill=\"none\"/>\n",
              "    <path d=\"M18.56 5.44l.94 2.06.94-2.06 2.06-.94-2.06-.94-.94-2.06-.94 2.06-2.06.94zm-11 1L8.5 8.5l.94-2.06 2.06-.94-2.06-.94L8.5 2.5l-.94 2.06-2.06.94zm10 10l.94 2.06.94-2.06 2.06-.94-2.06-.94-.94-2.06-.94 2.06-2.06.94z\"/><path d=\"M17.41 7.96l-1.37-1.37c-.4-.4-.92-.59-1.43-.59-.52 0-1.04.2-1.43.59L10.3 9.45l-7.72 7.72c-.78.78-.78 2.05 0 2.83L4 21.41c.39.39.9.59 1.41.59.51 0 1.02-.2 1.41-.59l7.78-7.78 2.81-2.81c.8-.78.8-2.07 0-2.86zM5.41 20L4 18.59l7.72-7.72 1.47 1.35L5.41 20z\"/>\n",
              "  </svg>\n",
              "      </button>\n",
              "      \n",
              "  <style>\n",
              "    .colab-df-container {\n",
              "      display:flex;\n",
              "      flex-wrap:wrap;\n",
              "      gap: 12px;\n",
              "    }\n",
              "\n",
              "    .colab-df-convert {\n",
              "      background-color: #E8F0FE;\n",
              "      border: none;\n",
              "      border-radius: 50%;\n",
              "      cursor: pointer;\n",
              "      display: none;\n",
              "      fill: #1967D2;\n",
              "      height: 32px;\n",
              "      padding: 0 0 0 0;\n",
              "      width: 32px;\n",
              "    }\n",
              "\n",
              "    .colab-df-convert:hover {\n",
              "      background-color: #E2EBFA;\n",
              "      box-shadow: 0px 1px 2px rgba(60, 64, 67, 0.3), 0px 1px 3px 1px rgba(60, 64, 67, 0.15);\n",
              "      fill: #174EA6;\n",
              "    }\n",
              "\n",
              "    [theme=dark] .colab-df-convert {\n",
              "      background-color: #3B4455;\n",
              "      fill: #D2E3FC;\n",
              "    }\n",
              "\n",
              "    [theme=dark] .colab-df-convert:hover {\n",
              "      background-color: #434B5C;\n",
              "      box-shadow: 0px 1px 3px 1px rgba(0, 0, 0, 0.15);\n",
              "      filter: drop-shadow(0px 1px 2px rgba(0, 0, 0, 0.3));\n",
              "      fill: #FFFFFF;\n",
              "    }\n",
              "  </style>\n",
              "\n",
              "      <script>\n",
              "        const buttonEl =\n",
              "          document.querySelector('#df-bb46d534-6c8f-4ed9-a5d3-d6b3e3d72401 button.colab-df-convert');\n",
              "        buttonEl.style.display =\n",
              "          google.colab.kernel.accessAllowed ? 'block' : 'none';\n",
              "\n",
              "        async function convertToInteractive(key) {\n",
              "          const element = document.querySelector('#df-bb46d534-6c8f-4ed9-a5d3-d6b3e3d72401');\n",
              "          const dataTable =\n",
              "            await google.colab.kernel.invokeFunction('convertToInteractive',\n",
              "                                                     [key], {});\n",
              "          if (!dataTable) return;\n",
              "\n",
              "          const docLinkHtml = 'Like what you see? Visit the ' +\n",
              "            '<a target=\"_blank\" href=https://colab.research.google.com/notebooks/data_table.ipynb>data table notebook</a>'\n",
              "            + ' to learn more about interactive tables.';\n",
              "          element.innerHTML = '';\n",
              "          dataTable['output_type'] = 'display_data';\n",
              "          await google.colab.output.renderOutput(dataTable, element);\n",
              "          const docLink = document.createElement('div');\n",
              "          docLink.innerHTML = docLinkHtml;\n",
              "          element.appendChild(docLink);\n",
              "        }\n",
              "      </script>\n",
              "    </div>\n",
              "  </div>\n",
              "  "
            ]
          },
          "metadata": {},
          "execution_count": 18
        }
      ]
    },
    {
      "cell_type": "code",
      "source": [
        "df.iloc[0]['comment_text']"
      ],
      "metadata": {
        "colab": {
          "base_uri": "https://localhost:8080/",
          "height": 87
        },
        "id": "VkPAWziMsD7k",
        "outputId": "33c4f1c2-a7a1-4a2c-d671-7592e2d97540"
      },
      "execution_count": 20,
      "outputs": [
        {
          "output_type": "execute_result",
          "data": {
            "text/plain": [
              "\"Explanation\\nWhy the edits made under my username Hardcore Metallica Fan were reverted? They weren't vandalisms, just closure on some GAs after I voted at New York Dolls FAC. And please don't remove the template from the talk page since I'm retired now.89.205.38.27\""
            ],
            "application/vnd.google.colaboratory.intrinsic+json": {
              "type": "string"
            }
          },
          "metadata": {},
          "execution_count": 20
        }
      ]
    },
    {
      "cell_type": "code",
      "source": [
        "df[df.columns[2:]].iloc[7]"
      ],
      "metadata": {
        "colab": {
          "base_uri": "https://localhost:8080/"
        },
        "id": "vzkI8qwmsIJK",
        "outputId": "8118a1f9-41b5-47b3-85e6-1e38b9398346"
      },
      "execution_count": 22,
      "outputs": [
        {
          "output_type": "execute_result",
          "data": {
            "text/plain": [
              "toxic            0\n",
              "severe_toxic     0\n",
              "obscene          0\n",
              "threat           0\n",
              "insult           0\n",
              "identity_hate    0\n",
              "Name: 7, dtype: int64"
            ]
          },
          "metadata": {},
          "execution_count": 22
        }
      ]
    },
    {
      "cell_type": "code",
      "source": [
        "from tensorflow.keras.layers import TextVectorization"
      ],
      "metadata": {
        "id": "aEcz852FsgLX"
      },
      "execution_count": 23,
      "outputs": []
    },
    {
      "cell_type": "code",
      "source": [
        "X = df['comment_text']\n",
        "y = df[df.columns[2:]].values\n",
        " "
      ],
      "metadata": {
        "id": "mQf-74FrtART"
      },
      "execution_count": 24,
      "outputs": []
    },
    {
      "cell_type": "code",
      "source": [
        "df[df.columns[2:]].values"
      ],
      "metadata": {
        "colab": {
          "base_uri": "https://localhost:8080/"
        },
        "id": "-gd22Lsrtp_C",
        "outputId": "17392277-d644-42be-c6ba-5fb42a2d0ecd"
      },
      "execution_count": 25,
      "outputs": [
        {
          "output_type": "execute_result",
          "data": {
            "text/plain": [
              "array([[0, 0, 0, 0, 0, 0],\n",
              "       [0, 0, 0, 0, 0, 0],\n",
              "       [0, 0, 0, 0, 0, 0],\n",
              "       ...,\n",
              "       [0, 0, 0, 0, 0, 0],\n",
              "       [0, 0, 0, 0, 0, 0],\n",
              "       [0, 0, 0, 0, 0, 0]])"
            ]
          },
          "metadata": {},
          "execution_count": 25
        }
      ]
    },
    {
      "cell_type": "code",
      "source": [
        "df.columns"
      ],
      "metadata": {
        "colab": {
          "base_uri": "https://localhost:8080/"
        },
        "id": "5HoB1Zgzt4E1",
        "outputId": "a87fe84c-b59b-44bf-cc4e-759026cd7ede"
      },
      "execution_count": 26,
      "outputs": [
        {
          "output_type": "execute_result",
          "data": {
            "text/plain": [
              "Index(['id', 'comment_text', 'toxic', 'severe_toxic', 'obscene', 'threat',\n",
              "       'insult', 'identity_hate'],\n",
              "      dtype='object')"
            ]
          },
          "metadata": {},
          "execution_count": 26
        }
      ]
    },
    {
      "cell_type": "code",
      "source": [
        "MAX_FEATURES = 200000 # number of words in the vocab"
      ],
      "metadata": {
        "id": "BjCPw7-7uDbs"
      },
      "execution_count": 27,
      "outputs": []
    },
    {
      "cell_type": "code",
      "source": [
        "vectorizer = TextVectorization(max_tokens=MAX_FEATURES,\n",
        "                               output_sequence_length=1800,\n",
        "                               output_mode='int')"
      ],
      "metadata": {
        "id": "S38qWI8LuatW"
      },
      "execution_count": 29,
      "outputs": []
    },
    {
      "cell_type": "code",
      "source": [
        "vectorizer.adapt(X.values)"
      ],
      "metadata": {
        "id": "BTvFf6GVu8sF"
      },
      "execution_count": 30,
      "outputs": []
    },
    {
      "cell_type": "code",
      "source": [
        "vectorizer.get_vocabulary()"
      ],
      "metadata": {
        "colab": {
          "base_uri": "https://localhost:8080/"
        },
        "id": "iZf-EXb7vIC3",
        "outputId": "6d439f0b-16ac-47da-f63d-a00a09e72c08"
      },
      "execution_count": 31,
      "outputs": [
        {
          "output_type": "execute_result",
          "data": {
            "text/plain": [
              "['',\n",
              " '[UNK]',\n",
              " 'the',\n",
              " 'to',\n",
              " 'of',\n",
              " 'i',\n",
              " 'a',\n",
              " 'and',\n",
              " 'you',\n",
              " 'is',\n",
              " 'that',\n",
              " 'in',\n",
              " 'it',\n",
              " 'for',\n",
              " 'this',\n",
              " 'not',\n",
              " 'on',\n",
              " 'be',\n",
              " 'as',\n",
              " 'have',\n",
              " 'are',\n",
              " 'with',\n",
              " 'your',\n",
              " 'if',\n",
              " 'was',\n",
              " 'article',\n",
              " 'or',\n",
              " 'but',\n",
              " 'page',\n",
              " 'my',\n",
              " 'an',\n",
              " 'by',\n",
              " 'from',\n",
              " 'at',\n",
              " 'do',\n",
              " 'me',\n",
              " 'about',\n",
              " 'so',\n",
              " 'what',\n",
              " 'wikipedia',\n",
              " 'can',\n",
              " 'there',\n",
              " 'all',\n",
              " 'has',\n",
              " 'would',\n",
              " 'its',\n",
              " 'like',\n",
              " 'will',\n",
              " 'no',\n",
              " 'one',\n",
              " 'just',\n",
              " 'talk',\n",
              " 'they',\n",
              " 'he',\n",
              " 'please',\n",
              " 'any',\n",
              " 'which',\n",
              " 'been',\n",
              " 'dont',\n",
              " 'we',\n",
              " 'ass',\n",
              " 'here',\n",
              " 'should',\n",
              " 'other',\n",
              " 'more',\n",
              " 'see',\n",
              " 'his',\n",
              " 'some',\n",
              " 'im',\n",
              " 'who',\n",
              " 'also',\n",
              " 'think',\n",
              " 'know',\n",
              " 'how',\n",
              " 'because',\n",
              " 'why',\n",
              " 'out',\n",
              " 'am',\n",
              " 'then',\n",
              " 'edit',\n",
              " 'were',\n",
              " 'people',\n",
              " 'only',\n",
              " 'up',\n",
              " 'use',\n",
              " 'articles',\n",
              " 'may',\n",
              " 'now',\n",
              " 'time',\n",
              " 'did',\n",
              " 'their',\n",
              " 'being',\n",
              " 'when',\n",
              " 'than',\n",
              " 'thanks',\n",
              " 'get',\n",
              " 'even',\n",
              " 'information',\n",
              " 'make',\n",
              " 'good',\n",
              " 'them',\n",
              " 'sources',\n",
              " 'well',\n",
              " 'could',\n",
              " 'had',\n",
              " 'want',\n",
              " 'fuck',\n",
              " 'way',\n",
              " 'very',\n",
              " 'does',\n",
              " 'deletion',\n",
              " 'first',\n",
              " 'really',\n",
              " 'section',\n",
              " 'such',\n",
              " 'made',\n",
              " 'name',\n",
              " 'pages',\n",
              " 'say',\n",
              " 'u',\n",
              " 'ive',\n",
              " 'need',\n",
              " 'used',\n",
              " 'much',\n",
              " 'again',\n",
              " 'where',\n",
              " 'new',\n",
              " 'edits',\n",
              " 'these',\n",
              " 'go',\n",
              " 'into',\n",
              " 'right',\n",
              " 'source',\n",
              " 'before',\n",
              " 'many',\n",
              " 'same',\n",
              " 'said',\n",
              " 'user',\n",
              " 'after',\n",
              " 'find',\n",
              " 'image',\n",
              " 'thank',\n",
              " 'two',\n",
              " 'since',\n",
              " 'discussion',\n",
              " 'those',\n",
              " 'editing',\n",
              " 'still',\n",
              " 'too',\n",
              " 'look',\n",
              " 'help',\n",
              " 'most',\n",
              " 'bot',\n",
              " 'read',\n",
              " 'something',\n",
              " 'someone',\n",
              " 'him',\n",
              " 'take',\n",
              " 'fact',\n",
              " 'own',\n",
              " 'work',\n",
              " 'link',\n",
              " 'deleted',\n",
              " 'useless',\n",
              " 'thats',\n",
              " 'going',\n",
              " 'better',\n",
              " 'back',\n",
              " 'never',\n",
              " 'editors',\n",
              " 'case',\n",
              " 'stop',\n",
              " 'under',\n",
              " 'sure',\n",
              " 'point',\n",
              " 'content',\n",
              " 'utc',\n",
              " 'history',\n",
              " 'without',\n",
              " 'might',\n",
              " 'over',\n",
              " 'youre',\n",
              " 'done',\n",
              " 'note',\n",
              " 'block',\n",
              " 'removed',\n",
              " 'list',\n",
              " 'doesnt',\n",
              " 'add',\n",
              " 'put',\n",
              " 'place',\n",
              " 'personal',\n",
              " 'our',\n",
              " 'didnt',\n",
              " 'comment',\n",
              " 'cant',\n",
              " 'however',\n",
              " 'both',\n",
              " 'using',\n",
              " 'us',\n",
              " 'thing',\n",
              " 'question',\n",
              " 'another',\n",
              " 'blocked',\n",
              " 'anything',\n",
              " 'person',\n",
              " 'added',\n",
              " 'reason',\n",
              " 'while',\n",
              " 'come',\n",
              " 'post',\n",
              " 'though',\n",
              " 'ill',\n",
              " 'against',\n",
              " 'problem',\n",
              " 'part',\n",
              " 'her',\n",
              " 'feel',\n",
              " 'ask',\n",
              " 'actually',\n",
              " 'things',\n",
              " 'off',\n",
              " 'seems',\n",
              " 'welcome',\n",
              " 'policy',\n",
              " 'vandalism',\n",
              " 'anyone',\n",
              " 'little',\n",
              " 'hope',\n",
              " 'yourself',\n",
              " 'users',\n",
              " 'sorry',\n",
              " 'must',\n",
              " 'making',\n",
              " 'links',\n",
              " 'mean',\n",
              " 'believe',\n",
              " 'years',\n",
              " 'far',\n",
              " 'best',\n",
              " 'isnt',\n",
              " 'change',\n",
              " 'rather',\n",
              " 'agree',\n",
              " 'fair',\n",
              " 'trying',\n",
              " 'remove',\n",
              " 'reliable',\n",
              " 'original',\n",
              " 'wrong',\n",
              " 'got',\n",
              " 'long',\n",
              " 'free',\n",
              " 'few',\n",
              " 'subject',\n",
              " 'others',\n",
              " 'nothing',\n",
              " 'let',\n",
              " 'delete',\n",
              " 'above',\n",
              " 'word',\n",
              " 'wiki',\n",
              " 'already',\n",
              " 'keep',\n",
              " 'etc',\n",
              " 'references',\n",
              " 'hi',\n",
              " 'editor',\n",
              " 'life',\n",
              " 'day',\n",
              " 'she',\n",
              " 'reference',\n",
              " 'tag',\n",
              " 'says',\n",
              " 'example',\n",
              " 'understand',\n",
              " 'issue',\n",
              " 'different',\n",
              " 'last',\n",
              " 'text',\n",
              " 'speedy',\n",
              " 'great',\n",
              " 'try',\n",
              " 'id',\n",
              " 'give',\n",
              " 'either',\n",
              " 'comments',\n",
              " 'between',\n",
              " 'simply',\n",
              " 'probably',\n",
              " 'yes',\n",
              " 'states',\n",
              " 'bit',\n",
              " 'around',\n",
              " 'having',\n",
              " 'write',\n",
              " 'through',\n",
              " 'every',\n",
              " 'saying',\n",
              " 'perhaps',\n",
              " 'world',\n",
              " 'thought',\n",
              " 'else',\n",
              " 'down',\n",
              " 'questions',\n",
              " 'leave',\n",
              " 'encyclopedia',\n",
              " 'clearly',\n",
              " 'found',\n",
              " 'support',\n",
              " 'least',\n",
              " 'doing',\n",
              " 'book',\n",
              " 'hello',\n",
              " 'english',\n",
              " 'yet',\n",
              " 'real',\n",
              " 'images',\n",
              " 'evidence',\n",
              " 'enough',\n",
              " 'claim',\n",
              " 'whether',\n",
              " 'site',\n",
              " 'opinion',\n",
              " 'further',\n",
              " 'number',\n",
              " 'material',\n",
              " 'ip',\n",
              " 'version',\n",
              " 'research',\n",
              " 'ever',\n",
              " '2',\n",
              " '1',\n",
              " 'true',\n",
              " 'idea',\n",
              " 'called',\n",
              " 'created',\n",
              " 'request',\n",
              " 'quite',\n",
              " 'message',\n",
              " 'copyright',\n",
              " 'continue',\n",
              " 'lot',\n",
              " 'left',\n",
              " 'account',\n",
              " 'check',\n",
              " 'show',\n",
              " 'once',\n",
              " 'notice',\n",
              " 'facts',\n",
              " 'consider',\n",
              " 'state',\n",
              " 'adding',\n",
              " 'makes',\n",
              " 'war',\n",
              " 'view',\n",
              " 'several',\n",
              " 'reverted',\n",
              " 'matter',\n",
              " 'consensus',\n",
              " 'clear',\n",
              " 'admin',\n",
              " 'year',\n",
              " 'criteria',\n",
              " 'call',\n",
              " 'second',\n",
              " 'given',\n",
              " 'correct',\n",
              " 'website',\n",
              " 'important',\n",
              " 'each',\n",
              " 'times',\n",
              " 'review',\n",
              " 'needs',\n",
              " 'maybe',\n",
              " 'based',\n",
              " 'words',\n",
              " 'mention',\n",
              " 'statement',\n",
              " 'address',\n",
              " 'theres',\n",
              " 'term',\n",
              " 'tell',\n",
              " 'seem',\n",
              " 'pov',\n",
              " 'fucking',\n",
              " 'course',\n",
              " 'although',\n",
              " 'written',\n",
              " 'main',\n",
              " 'contributions',\n",
              " 'move',\n",
              " 'language',\n",
              " 'title',\n",
              " 'looking',\n",
              " 'instead',\n",
              " 'claims',\n",
              " 'until',\n",
              " 'possible',\n",
              " 'following',\n",
              " 'changes',\n",
              " 'project',\n",
              " 'current',\n",
              " 'considered',\n",
              " 'notable',\n",
              " 'guidelines',\n",
              " 'always',\n",
              " 'old',\n",
              " 'myself',\n",
              " 'man',\n",
              " 'bad',\n",
              " '3',\n",
              " 'top',\n",
              " 'means',\n",
              " 'later',\n",
              " 'issues',\n",
              " 'group',\n",
              " 'currently',\n",
              " 'provide',\n",
              " 'ok',\n",
              " 'mentioned',\n",
              " 'less',\n",
              " 'include',\n",
              " 'homo',\n",
              " 'getting',\n",
              " 'seen',\n",
              " 'romney',\n",
              " 'position',\n",
              " 'mitt',\n",
              " 'cannot',\n",
              " 'lead',\n",
              " '—',\n",
              " 'specific',\n",
              " 'picture',\n",
              " 'happy',\n",
              " 'general',\n",
              " 'wikipedias',\n",
              " 'three',\n",
              " 'rules',\n",
              " 'per',\n",
              " 'including',\n",
              " 'care',\n",
              " 'regarding',\n",
              " 'party',\n",
              " 'start',\n",
              " 'political',\n",
              " 'nice',\n",
              " 'changed',\n",
              " 'recent',\n",
              " 'mind',\n",
              " 'included',\n",
              " 'fucker',\n",
              " 'explain',\n",
              " 'end',\n",
              " 'anyway',\n",
              " 'sentence',\n",
              " 'oh',\n",
              " 'cocksucker',\n",
              " 'big',\n",
              " 'kind',\n",
              " 'wasnt',\n",
              " 'sense',\n",
              " 'redirect',\n",
              " 'present',\n",
              " 'mothjer',\n",
              " 'listed',\n",
              " 'interest',\n",
              " 'full',\n",
              " 'wanted',\n",
              " 'taken',\n",
              " 'suggest',\n",
              " 'relevant',\n",
              " 'known',\n",
              " 'country',\n",
              " 'completely',\n",
              " 'attacks',\n",
              " 'according',\n",
              " 'revert',\n",
              " '4',\n",
              " 'youve',\n",
              " 'wont',\n",
              " 'wish',\n",
              " 'single',\n",
              " 'during',\n",
              " 'date',\n",
              " 'wp',\n",
              " 'nor',\n",
              " 'media',\n",
              " 'create',\n",
              " 'cities',\n",
              " 'attack',\n",
              " 'appropriate',\n",
              " 'appears',\n",
              " 'warning',\n",
              " 'template',\n",
              " 'summary',\n",
              " 'interested',\n",
              " 'hey',\n",
              " 'able',\n",
              " 'writing',\n",
              " 'within',\n",
              " 'whole',\n",
              " 'pretty',\n",
              " 'obviously',\n",
              " 'news',\n",
              " 'answer',\n",
              " 'topic',\n",
              " 'style',\n",
              " 'stuff',\n",
              " 'sort',\n",
              " 'public',\n",
              " 'proposed',\n",
              " 'everything',\n",
              " 'today',\n",
              " 'response',\n",
              " 'remember',\n",
              " 'lets',\n",
              " 'form',\n",
              " 'common',\n",
              " 'become',\n",
              " 'ago',\n",
              " 'related',\n",
              " 'line',\n",
              " 'info',\n",
              " 'email',\n",
              " 'discuss',\n",
              " 'days',\n",
              " '2008',\n",
              " '2005',\n",
              " 'working',\n",
              " 'side',\n",
              " 'looks',\n",
              " 'company',\n",
              " 'yeah',\n",
              " 'unless',\n",
              " 'quote',\n",
              " 'official',\n",
              " 'names',\n",
              " 'future',\n",
              " 'therefore',\n",
              " 'school',\n",
              " 'reverting',\n",
              " 'policies',\n",
              " 'neutral',\n",
              " 'itself',\n",
              " 'havent',\n",
              " 'gay',\n",
              " 'false',\n",
              " 'faith',\n",
              " 'exactly',\n",
              " 'stupid',\n",
              " 'soon',\n",
              " 'reasons',\n",
              " 'placed',\n",
              " 'past',\n",
              " 'knowledge',\n",
              " 'everyone',\n",
              " 'conflict',\n",
              " 'away',\n",
              " 'username',\n",
              " 'started',\n",
              " 'report',\n",
              " 'paragraph',\n",
              " 'argument',\n",
              " 'works',\n",
              " 'views',\n",
              " 'united',\n",
              " 'short',\n",
              " 'removing',\n",
              " 'order',\n",
              " 'noticed',\n",
              " 'music',\n",
              " 'love',\n",
              " 'cited',\n",
              " 'certainly',\n",
              " 'appreciate',\n",
              " 'taking',\n",
              " 'ie',\n",
              " 'especially',\n",
              " 'asked',\n",
              " '5',\n",
              " '•',\n",
              " 'wrote',\n",
              " 'tried',\n",
              " 'talking',\n",
              " 'stated',\n",
              " 'similar',\n",
              " 'reading',\n",
              " 'major',\n",
              " 'india',\n",
              " 'came',\n",
              " 'almost',\n",
              " '2006',\n",
              " 'truth',\n",
              " 'system',\n",
              " 'published',\n",
              " 'npov',\n",
              " 'guess',\n",
              " 'government',\n",
              " 'attempt',\n",
              " 'along',\n",
              " '2004',\n",
              " 'sign',\n",
              " 'reply',\n",
              " 'notability',\n",
              " 'cheers',\n",
              " 'web',\n",
              " 'towns',\n",
              " 'story',\n",
              " 'law',\n",
              " 'four',\n",
              " 'citation',\n",
              " 'banned',\n",
              " 'actual',\n",
              " '2007',\n",
              " 'shit',\n",
              " 'provided',\n",
              " 'posted',\n",
              " 'likely',\n",
              " 'interesting',\n",
              " 'guy',\n",
              " 'explanation',\n",
              " 'dispute',\n",
              " 'community',\n",
              " 'below',\n",
              " 'whatever',\n",
              " 'villages',\n",
              " 'hard',\n",
              " 'game',\n",
              " 'citations',\n",
              " 'certain',\n",
              " 'books',\n",
              " 'went',\n",
              " 'violation',\n",
              " 'university',\n",
              " 'sandbox',\n",
              " 'regards',\n",
              " 'process',\n",
              " 'members',\n",
              " 'improve',\n",
              " 'external',\n",
              " 'description',\n",
              " 'definition',\n",
              " 'cause',\n",
              " 'american',\n",
              " 'addition',\n",
              " 'valid',\n",
              " 'republic',\n",
              " 'problems',\n",
              " 'period',\n",
              " 'open',\n",
              " 'often',\n",
              " 'involved',\n",
              " 'goes',\n",
              " 'film',\n",
              " 'entry',\n",
              " 'city',\n",
              " 'cite',\n",
              " 'aware',\n",
              " 'avoid',\n",
              " 'area',\n",
              " 'allowed',\n",
              " 'allow',\n",
              " 'small',\n",
              " 'shows',\n",
              " 'rule',\n",
              " 'previous',\n",
              " 'moved',\n",
              " 'modern',\n",
              " 'meant',\n",
              " 'learn',\n",
              " 'hes',\n",
              " 'french',\n",
              " 'death',\n",
              " 'culture',\n",
              " '–',\n",
              " 'various',\n",
              " 'thus',\n",
              " 'stay',\n",
              " 'statements',\n",
              " 'search',\n",
              " 'proper',\n",
              " 'obvious',\n",
              " 'next',\n",
              " 'months',\n",
              " 'legal',\n",
              " 'hand',\n",
              " 'google',\n",
              " 'exist',\n",
              " 'edited',\n",
              " 'alone',\n",
              " 'theory',\n",
              " 'sourced',\n",
              " 'run',\n",
              " 'historical',\n",
              " 'due',\n",
              " 'deleting',\n",
              " 'admins',\n",
              " 'vandalize',\n",
              " 'type',\n",
              " 'took',\n",
              " 'science',\n",
              " 'rights',\n",
              " 'particular',\n",
              " 'otherwise',\n",
              " 'multiple',\n",
              " 'majority',\n",
              " 'entire',\n",
              " 'disagree',\n",
              " 'appear',\n",
              " 'w',\n",
              " 'third',\n",
              " 'themselves',\n",
              " 'test',\n",
              " 'status',\n",
              " 'saw',\n",
              " 'play',\n",
              " 'ones',\n",
              " 'himself',\n",
              " 'high',\n",
              " 'head',\n",
              " 'george',\n",
              " 'generally',\n",
              " 'context',\n",
              " 'bush',\n",
              " 'biased',\n",
              " 'author',\n",
              " 'afd',\n",
              " 'accept',\n",
              " 'useful',\n",
              " 'upon',\n",
              " 'team',\n",
              " 'seriously',\n",
              " 'points',\n",
              " 'guys',\n",
              " 'family',\n",
              " 'debate',\n",
              " 'album',\n",
              " 'terms',\n",
              " 'indeed',\n",
              " 'incorrect',\n",
              " 'hell',\n",
              " 'fine',\n",
              " 'children',\n",
              " 'category',\n",
              " 'band',\n",
              " 'wouldnt',\n",
              " 'week',\n",
              " 'refer',\n",
              " 'nonsense',\n",
              " 'mr',\n",
              " 'contributing',\n",
              " 'calling',\n",
              " 'arguments',\n",
              " '6',\n",
              " '2010',\n",
              " 'worked',\n",
              " 'needed',\n",
              " 'internet',\n",
              " 'helpful',\n",
              " 'hate',\n",
              " 'follow',\n",
              " 'faggot',\n",
              " 'details',\n",
              " 'decided',\n",
              " 'contribs',\n",
              " 'british',\n",
              " 'assume',\n",
              " 'administrator',\n",
              " 'accurate',\n",
              " '10',\n",
              " 'whats',\n",
              " 'usernhrhs2010',\n",
              " 'uploaded',\n",
              " 'understanding',\n",
              " 'specifically',\n",
              " 'south',\n",
              " 'simple',\n",
              " 'none',\n",
              " 'national',\n",
              " 'happened',\n",
              " 'factual',\n",
              " 'existing',\n",
              " 'direct',\n",
              " 'userenigmaman',\n",
              " 'unblock',\n",
              " 'together',\n",
              " 'theyre',\n",
              " 'result',\n",
              " 're',\n",
              " 'rationale',\n",
              " 'live',\n",
              " 'july',\n",
              " 'hours',\n",
              " 'greek',\n",
              " 'god',\n",
              " 'explaining',\n",
              " 'contest',\n",
              " 'comes',\n",
              " 'california',\n",
              " 'attention',\n",
              " 'wikiproject',\n",
              " 'un',\n",
              " 'sites',\n",
              " 'set',\n",
              " 'series',\n",
              " 'readers',\n",
              " 'propaganda',\n",
              " 'messages',\n",
              " 'local',\n",
              " 'lack',\n",
              " 'gets',\n",
              " 'events',\n",
              " 'despite',\n",
              " 'december',\n",
              " 'copy',\n",
              " 'changing',\n",
              " 'blocking',\n",
              " 'ban',\n",
              " 'arent',\n",
              " 'accounts',\n",
              " '8',\n",
              " 'white',\n",
              " 'vote',\n",
              " 'standard',\n",
              " 'proof',\n",
              " 'possibly',\n",
              " 'north',\n",
              " 'league',\n",
              " 'face',\n",
              " 'entirely',\n",
              " 'earlier',\n",
              " 'controversial',\n",
              " 'complete',\n",
              " 'christian',\n",
              " 'box',\n",
              " 'automatically',\n",
              " 'asking',\n",
              " 'serious',\n",
              " 'press',\n",
              " 'personally',\n",
              " 'online',\n",
              " 'minor',\n",
              " 'job',\n",
              " 'five',\n",
              " 'de',\n",
              " 'bias',\n",
              " 'available',\n",
              " '7',\n",
              " 'towards',\n",
              " 'tagged',\n",
              " 'space',\n",
              " 'separate',\n",
              " 'quality',\n",
              " 'lol',\n",
              " 'light',\n",
              " 'ideas',\n",
              " 'heard',\n",
              " 'games',\n",
              " 'except',\n",
              " 'europe',\n",
              " 'easily',\n",
              " 'early',\n",
              " 'century',\n",
              " 'administrators',\n",
              " 'actions',\n",
              " 'accepted',\n",
              " 'academic',\n",
              " 'supposed',\n",
              " 'sometimes',\n",
              " 'service',\n",
              " 'release',\n",
              " 'record',\n",
              " 'recently',\n",
              " 'posting',\n",
              " 'particularly',\n",
              " 'nonfree',\n",
              " 'month',\n",
              " 'meaning',\n",
              " 'march',\n",
              " 'longer',\n",
              " 'june',\n",
              " 'jews',\n",
              " 'honest',\n",
              " 'giving',\n",
              " 'directly',\n",
              " 'described',\n",
              " 'contact',\n",
              " 'college',\n",
              " 'church',\n",
              " 'c',\n",
              " 'black',\n",
              " 'august',\n",
              " 'age',\n",
              " '20',\n",
              " 'verifiable',\n",
              " 'speak',\n",
              " 'sound',\n",
              " 'situation',\n",
              " 'shown',\n",
              " 'shall',\n",
              " 'respect',\n",
              " 'racist',\n",
              " 'province',\n",
              " 'piece',\n",
              " 'merely',\n",
              " 'manual',\n",
              " 'looked',\n",
              " 'indicate',\n",
              " 'human',\n",
              " 'german',\n",
              " 'figure',\n",
              " 'exists',\n",
              " 'couple',\n",
              " 'barnstar',\n",
              " 'western',\n",
              " 'video',\n",
              " 'thinking',\n",
              " 'tags',\n",
              " 'shouldnt',\n",
              " 'royal',\n",
              " 'power',\n",
              " 'lost',\n",
              " 'living',\n",
              " 'license',\n",
              " 'fix',\n",
              " 'difference',\n",
              " 'deal',\n",
              " 'business',\n",
              " 'battle',\n",
              " 'apparently',\n",
              " '15',\n",
              " 'youll',\n",
              " 'uses',\n",
              " 'totally',\n",
              " 'study',\n",
              " 'rest',\n",
              " 'permission',\n",
              " 'outside',\n",
              " 'home',\n",
              " 'heres',\n",
              " 'gave',\n",
              " 'fun',\n",
              " 'featured',\n",
              " 'dead',\n",
              " 'criticism',\n",
              " 'creating',\n",
              " 'countries',\n",
              " 'contribute',\n",
              " 'concerned',\n",
              " 'civil',\n",
              " 'act',\n",
              " 'warring',\n",
              " 'told',\n",
              " 'takes',\n",
              " 'table',\n",
              " 'size',\n",
              " 'requesting',\n",
              " 'religious',\n",
              " 'refers',\n",
              " 'realize',\n",
              " 'prove',\n",
              " 'prefer',\n",
              " 'paper',\n",
              " 'mine',\n",
              " 'lists',\n",
              " 'linked',\n",
              " 'infobox',\n",
              " 'inclusion',\n",
              " 'inappropriate',\n",
              " 'house',\n",
              " 'forward',\n",
              " 'enjoy',\n",
              " 'controversy',\n",
              " 'canada',\n",
              " 'brought',\n",
              " 'b',\n",
              " 'action',\n",
              " 'websites',\n",
              " 'wants',\n",
              " 'sounds',\n",
              " 'sock',\n",
              " 'sections',\n",
              " 'scientific',\n",
              " 'respond',\n",
              " 'region',\n",
              " 'quotes',\n",
              " 'primary',\n",
              " 'photo',\n",
              " 'october',\n",
              " 'northern',\n",
              " 'nomination',\n",
              " 'newspaper',\n",
              " 'men',\n",
              " 'member',\n",
              " 'lord',\n",
              " 'legitimate',\n",
              " 'independent',\n",
              " 'final',\n",
              " 'dear',\n",
              " ...]"
            ]
          },
          "metadata": {},
          "execution_count": 31
        }
      ]
    },
    {
      "cell_type": "code",
      "source": [
        "vectorized_text = vectorizer(X.values)"
      ],
      "metadata": {
        "id": "l7moNHgDvMg0"
      },
      "execution_count": 32,
      "outputs": []
    },
    {
      "cell_type": "code",
      "source": [
        "len(X)"
      ],
      "metadata": {
        "colab": {
          "base_uri": "https://localhost:8080/"
        },
        "id": "409B8slnv1Gg",
        "outputId": "509f323b-53f6-4454-bf73-6708a587073b"
      },
      "execution_count": 33,
      "outputs": [
        {
          "output_type": "execute_result",
          "data": {
            "text/plain": [
              "4837"
            ]
          },
          "metadata": {},
          "execution_count": 33
        }
      ]
    },
    {
      "cell_type": "code",
      "source": [
        "vectorized_text"
      ],
      "metadata": {
        "colab": {
          "base_uri": "https://localhost:8080/"
        },
        "id": "pzHFC4SAv3FQ",
        "outputId": "004a18a6-a9d3-440c-d0e5-9fb3583de574"
      },
      "execution_count": 34,
      "outputs": [
        {
          "output_type": "execute_result",
          "data": {
            "text/plain": [
              "<tf.Tensor: shape=(4837, 1800), dtype=int64, numpy=\n",
              "array([[  621,    75,     2, ...,     0,     0,     0],\n",
              "       [23051,    53,  1856, ...,     0,     0,     0],\n",
              "       [  497,   409,    68, ...,     0,     0,     0],\n",
              "       ...,\n",
              "       [  456, 12820,   449, ...,     0,     0,     0],\n",
              "       [    5,   121,     6, ...,     0,     0,     0],\n",
              "       [ 2495,    92,     5, ...,     0,     0,     0]])>"
            ]
          },
          "metadata": {},
          "execution_count": 34
        }
      ]
    },
    {
      "cell_type": "code",
      "source": [
        "dataset = tf.data.Dataset.from_tensor_slices((vectorized_text, y))\n",
        "dataset = dataset.cache()\n",
        "dataset = dataset.shuffle(160000)\n",
        "dataset = dataset.batch(16)\n",
        "dataset = dataset.prefetch(8)"
      ],
      "metadata": {
        "id": "euZiAZAwv6NB"
      },
      "execution_count": 36,
      "outputs": []
    },
    {
      "cell_type": "code",
      "source": [
        "train = dataset.take(int(len(dataset)*.7))\n",
        "val = dataset.skip(int(len(dataset)*.7)).take(int(len(dataset)*.2))\n",
        "test = dataset.skip(int(len(dataset)*.9)).take(int(len(dataset)*.1))"
      ],
      "metadata": {
        "id": "dhbfatDYzUXf"
      },
      "execution_count": 38,
      "outputs": []
    },
    {
      "cell_type": "code",
      "source": [
        "from tensorflow.keras.models import Sequential\n",
        "from tensorflow.keras.layers import LSTM, Dropout, Bidirectional, Dense, Embedding"
      ],
      "metadata": {
        "id": "7uKbgY7Z05d5"
      },
      "execution_count": 48,
      "outputs": []
    },
    {
      "cell_type": "code",
      "source": [
        "model = Sequential()\n",
        "# Create the embedding layer\n",
        "model.add(Embedding(MAX_FEATURES+1, 32))\n",
        "# Bidirectional LSTM Layer\n",
        "model.add(Bidirectional(LSTM(32, activation='tanh')))\n",
        "# Feature extractor Fully connected layers\n",
        "model.add(Dense(128, activation='relu'))\n",
        "model.add(Dense(256, activation='relu'))\n",
        "model.add(Dense(128, activation='relu'))\n",
        "# Final layer\n",
        "model.add(Dense(6, activation='sigmoid'))"
      ],
      "metadata": {
        "id": "pC3TH_ua2Sho"
      },
      "execution_count": 49,
      "outputs": []
    },
    {
      "cell_type": "code",
      "source": [
        "model.compile(loss='BinaryCrossentropy', optimizer='Adam')"
      ],
      "metadata": {
        "id": "ABFoMawy4_uX"
      },
      "execution_count": 50,
      "outputs": []
    },
    {
      "cell_type": "code",
      "source": [
        "model.summary()"
      ],
      "metadata": {
        "colab": {
          "base_uri": "https://localhost:8080/"
        },
        "id": "MM_wn0KK6U2B",
        "outputId": "a7d7f983-46e0-4008-abb7-2acfc27b7e7a"
      },
      "execution_count": 51,
      "outputs": [
        {
          "output_type": "stream",
          "name": "stdout",
          "text": [
            "Model: \"sequential\"\n",
            "_________________________________________________________________\n",
            " Layer (type)                Output Shape              Param #   \n",
            "=================================================================\n",
            " embedding (Embedding)       (None, None, 32)          6400032   \n",
            "                                                                 \n",
            " bidirectional (Bidirectiona  (None, 64)               16640     \n",
            " l)                                                              \n",
            "                                                                 \n",
            " dense (Dense)               (None, 128)               8320      \n",
            "                                                                 \n",
            " dense_1 (Dense)             (None, 256)               33024     \n",
            "                                                                 \n",
            " dense_2 (Dense)             (None, 128)               32896     \n",
            "                                                                 \n",
            " dense_3 (Dense)             (None, 6)                 774       \n",
            "                                                                 \n",
            "=================================================================\n",
            "Total params: 6,491,686\n",
            "Trainable params: 6,491,686\n",
            "Non-trainable params: 0\n",
            "_________________________________________________________________\n"
          ]
        }
      ]
    },
    {
      "cell_type": "code",
      "source": [
        "history = model.fit(train, epochs=20, validation_data=val)"
      ],
      "metadata": {
        "colab": {
          "base_uri": "https://localhost:8080/"
        },
        "id": "9wK6E9ma6Wra",
        "outputId": "52191e80-b62c-4e92-e7e1-73971e275ff2"
      },
      "execution_count": 52,
      "outputs": [
        {
          "output_type": "stream",
          "name": "stdout",
          "text": [
            "Epoch 1/20\n",
            "212/212 [==============================] - 28s 96ms/step - loss: 0.1742 - val_loss: 0.0845\n",
            "Epoch 2/20\n",
            "212/212 [==============================] - 20s 92ms/step - loss: 0.0818 - val_loss: 0.0707\n",
            "Epoch 3/20\n",
            "212/212 [==============================] - 19s 92ms/step - loss: 0.0588 - val_loss: 0.0393\n",
            "Epoch 4/20\n",
            "212/212 [==============================] - 20s 96ms/step - loss: 0.0430 - val_loss: 0.0422\n",
            "Epoch 5/20\n",
            "212/212 [==============================] - 20s 95ms/step - loss: 0.0389 - val_loss: 0.0433\n",
            "Epoch 6/20\n",
            "212/212 [==============================] - 20s 94ms/step - loss: 0.0372 - val_loss: 0.0344\n",
            "Epoch 7/20\n",
            "212/212 [==============================] - 20s 93ms/step - loss: 0.0347 - val_loss: 0.0284\n",
            "Epoch 8/20\n",
            "212/212 [==============================] - 20s 93ms/step - loss: 0.0294 - val_loss: 0.0432\n",
            "Epoch 9/20\n",
            "212/212 [==============================] - 20s 93ms/step - loss: 0.0297 - val_loss: 0.0290\n",
            "Epoch 10/20\n",
            "212/212 [==============================] - 20s 93ms/step - loss: 0.0300 - val_loss: 0.0268\n",
            "Epoch 11/20\n",
            "212/212 [==============================] - 20s 93ms/step - loss: 0.0271 - val_loss: 0.0315\n",
            "Epoch 12/20\n",
            "212/212 [==============================] - 21s 97ms/step - loss: 0.0273 - val_loss: 0.0233\n",
            "Epoch 13/20\n",
            "212/212 [==============================] - 20s 94ms/step - loss: 0.0267 - val_loss: 0.0262\n",
            "Epoch 14/20\n",
            "212/212 [==============================] - 20s 93ms/step - loss: 0.0224 - val_loss: 0.0200\n",
            "Epoch 15/20\n",
            "212/212 [==============================] - 20s 94ms/step - loss: 0.0233 - val_loss: 0.0195\n",
            "Epoch 16/20\n",
            "212/212 [==============================] - 20s 94ms/step - loss: 0.0234 - val_loss: 0.0193\n",
            "Epoch 17/20\n",
            "212/212 [==============================] - 20s 93ms/step - loss: 0.0203 - val_loss: 0.0166\n",
            "Epoch 18/20\n",
            "212/212 [==============================] - 20s 95ms/step - loss: 0.0184 - val_loss: 0.0173\n",
            "Epoch 19/20\n",
            "212/212 [==============================] - 20s 97ms/step - loss: 0.0166 - val_loss: 0.0130\n",
            "Epoch 20/20\n",
            "212/212 [==============================] - 21s 98ms/step - loss: 0.0175 - val_loss: 0.0107\n"
          ]
        }
      ]
    },
    {
      "cell_type": "code",
      "source": [
        "from matplotlib import pyplot as plt"
      ],
      "metadata": {
        "id": "ivzjKnGH6__R"
      },
      "execution_count": 53,
      "outputs": []
    },
    {
      "cell_type": "code",
      "source": [
        "history.history"
      ],
      "metadata": {
        "colab": {
          "base_uri": "https://localhost:8080/"
        },
        "id": "8J6gRAwX-mEs",
        "outputId": "ecf5cfdc-56e7-4ef6-e6a3-66bca968182f"
      },
      "execution_count": 54,
      "outputs": [
        {
          "output_type": "execute_result",
          "data": {
            "text/plain": [
              "{'loss': [0.17421819269657135,\n",
              "  0.08181840181350708,\n",
              "  0.05879591405391693,\n",
              "  0.04300205782055855,\n",
              "  0.03889070078730583,\n",
              "  0.03724455460906029,\n",
              "  0.03466711565852165,\n",
              "  0.029354741796851158,\n",
              "  0.02970638871192932,\n",
              "  0.030026327818632126,\n",
              "  0.027058947831392288,\n",
              "  0.02728121727705002,\n",
              "  0.026655342429876328,\n",
              "  0.022389771416783333,\n",
              "  0.023333322256803513,\n",
              "  0.023428216576576233,\n",
              "  0.020347068086266518,\n",
              "  0.018425103276968002,\n",
              "  0.01664920710027218,\n",
              "  0.017459865659475327],\n",
              " 'val_loss': [0.08448732644319534,\n",
              "  0.0706629827618599,\n",
              "  0.039324067533016205,\n",
              "  0.04223848506808281,\n",
              "  0.043341945856809616,\n",
              "  0.03441725671291351,\n",
              "  0.028436949476599693,\n",
              "  0.04315938428044319,\n",
              "  0.029014190658926964,\n",
              "  0.026828961446881294,\n",
              "  0.0314953550696373,\n",
              "  0.023333709686994553,\n",
              "  0.026187598705291748,\n",
              "  0.019962958991527557,\n",
              "  0.019488485530018806,\n",
              "  0.019269222393631935,\n",
              "  0.01655171439051628,\n",
              "  0.017290273681282997,\n",
              "  0.013002825900912285,\n",
              "  0.010692066513001919]}"
            ]
          },
          "metadata": {},
          "execution_count": 54
        }
      ]
    },
    {
      "cell_type": "code",
      "source": [
        "plt.figure(figsize=(8,5))\n",
        "pd.DataFrame(history.history).plot()\n",
        "plt.show()"
      ],
      "metadata": {
        "colab": {
          "base_uri": "https://localhost:8080/",
          "height": 283
        },
        "id": "qqamKlBE-nn6",
        "outputId": "ce3a7ef1-7b14-4796-ed3e-625bb0e9aefd"
      },
      "execution_count": 57,
      "outputs": [
        {
          "output_type": "display_data",
          "data": {
            "text/plain": [
              "<Figure size 576x360 with 0 Axes>"
            ]
          },
          "metadata": {}
        },
        {
          "output_type": "display_data",
          "data": {
            "text/plain": [
              "<Figure size 432x288 with 1 Axes>"
            ],
            "image/png": "[encoded data removed]"
          },
          "metadata": {
            "needs_background": "light"
          }
        }
      ]
    },
    {
      "cell_type": "code",
      "source": [
        "input_text = vectorizer('You freaking suck!')"
      ],
      "metadata": {
        "id": "x0JrWeOF-4J9"
      },
      "execution_count": 58,
      "outputs": []
    },
    {
      "cell_type": "code",
      "source": [
        "batch = test.as_numpy_iterator().next()"
      ],
      "metadata": {
        "id": "1XP1eE1h_a13"
      },
      "execution_count": 59,
      "outputs": []
    },
    {
      "cell_type": "code",
      "source": [
        "model.predict(np.array([input_text]))"
      ],
      "metadata": {
        "colab": {
          "base_uri": "https://localhost:8080/"
        },
        "id": "hTGVsRKv_hgV",
        "outputId": "de3d2099-0c15-42e7-e250-128a5b034e76"
      },
      "execution_count": 60,
      "outputs": [
        {
          "output_type": "stream",
          "name": "stdout",
          "text": [
            "1/1 [==============================] - 1s 856ms/step\n"
          ]
        },
        {
          "output_type": "execute_result",
          "data": {
            "text/plain": [
              "array([[9.9981707e-01, 2.4631289e-03, 9.8281163e-01, 8.1702851e-04,\n",
              "        5.6166708e-01, 9.9247126e-03]], dtype=float32)"
            ]
          },
          "metadata": {},
          "execution_count": 60
        }
      ]
    },
    {
      "cell_type": "code",
      "source": [
        "res = model.predict(np.expand_dims(input_text,0))"
      ],
      "metadata": {
        "colab": {
          "base_uri": "https://localhost:8080/"
        },
        "id": "w2yO1ZLu_4o3",
        "outputId": "73e2ba97-9291-430b-cadf-3d4962908a21"
      },
      "execution_count": 61,
      "outputs": [
        {
          "output_type": "stream",
          "name": "stdout",
          "text": [
            "1/1 [==============================] - 0s 85ms/step\n"
          ]
        }
      ]
    },
    {
      "cell_type": "code",
      "source": [
        "test.as_numpy_iterator().next()"
      ],
      "metadata": {
        "colab": {
          "base_uri": "https://localhost:8080/"
        },
        "id": "3bLKKrCZAA_D",
        "outputId": "2a02624e-88c3-40f4-dd1a-94d0e94b7f90"
      },
      "execution_count": 62,
      "outputs": [
        {
          "output_type": "execute_result",
          "data": {
            "text/plain": [
              "(array([[    9,    14,    67, ...,     0,     0,     0],\n",
              "        [    5,   243,   516, ...,     0,     0,     0],\n",
              "        [  141,     8,    13, ...,     0,     0,     0],\n",
              "        ...,\n",
              "        [    8,    19,    48, ...,     0,     0,     0],\n",
              "        [  462, 14220,  2277, ...,     0,     0,     0],\n",
              "        [    8,    47,    17, ...,     0,     0,     0]]),\n",
              " array([[0, 0, 0, 0, 0, 0],\n",
              "        [0, 0, 0, 0, 0, 0],\n",
              "        [1, 0, 1, 0, 1, 0],\n",
              "        [0, 0, 0, 0, 0, 0],\n",
              "        [0, 0, 0, 0, 0, 1],\n",
              "        [0, 0, 0, 0, 0, 0],\n",
              "        [1, 0, 0, 0, 0, 0],\n",
              "        [0, 0, 0, 0, 0, 0],\n",
              "        [0, 0, 0, 0, 0, 0],\n",
              "        [1, 0, 0, 0, 0, 0],\n",
              "        [1, 0, 0, 0, 0, 0],\n",
              "        [0, 0, 0, 0, 0, 0],\n",
              "        [0, 0, 0, 0, 1, 0],\n",
              "        [1, 0, 1, 0, 1, 0],\n",
              "        [0, 0, 0, 0, 0, 0],\n",
              "        [0, 0, 0, 0, 0, 0]]))"
            ]
          },
          "metadata": {},
          "execution_count": 62
        }
      ]
    },
    {
      "cell_type": "code",
      "source": [
        "batch_X, batch_y = test.as_numpy_iterator().next()"
      ],
      "metadata": {
        "id": "cEZOt1WRFrM6"
      },
      "execution_count": 63,
      "outputs": []
    },
    {
      "cell_type": "code",
      "source": [
        "model.predict(batch_X)"
      ],
      "metadata": {
        "colab": {
          "base_uri": "https://localhost:8080/"
        },
        "id": "Fms4yYUyF3d_",
        "outputId": "36cfb949-6784-448b-c361-60a1d1ced1ff"
      },
      "execution_count": 64,
      "outputs": [
        {
          "output_type": "stream",
          "name": "stdout",
          "text": [
            "1/1 [==============================] - 0s 67ms/step\n"
          ]
        },
        {
          "output_type": "execute_result",
          "data": {
            "text/plain": [
              "array([[7.72817643e-10, 2.42102027e-16, 1.26612737e-13, 2.71759681e-08,\n",
              "        9.22633414e-10, 2.05382781e-12],\n",
              "       [2.35121930e-04, 1.19600940e-09, 9.84810171e-08, 1.20702694e-04,\n",
              "        1.85874669e-05, 2.90845264e-07],\n",
              "       [7.10041817e-11, 2.30852279e-17, 1.47914568e-14, 7.02504188e-09,\n",
              "        1.85104085e-10, 3.30117281e-13],\n",
              "       [1.51178358e-11, 4.14867515e-18, 3.23862243e-15, 2.64297184e-09,\n",
              "        6.15488216e-11, 8.72680631e-14],\n",
              "       [9.07365393e-06, 3.14861089e-11, 3.59301211e-09, 1.58453895e-05,\n",
              "        1.59299418e-06, 1.71281318e-08],\n",
              "       [1.04373177e-08, 1.03696416e-14, 3.03256552e-12, 2.04527524e-07,\n",
              "        9.03555541e-09, 3.56006682e-11],\n",
              "       [1.50890647e-10, 1.13714464e-16, 5.34134979e-14, 1.45814703e-08,\n",
              "        4.78707018e-10, 1.06404946e-12],\n",
              "       [9.99219537e-01, 4.51943158e-08, 1.60832642e-04, 7.02810823e-04,\n",
              "        1.22375339e-02, 5.49967581e-06],\n",
              "       [2.78287121e-06, 1.90468973e-12, 3.90126959e-10, 5.07568575e-06,\n",
              "        3.02698680e-07, 2.22567342e-09],\n",
              "       [5.01193176e-09, 1.52960672e-15, 6.63159143e-13, 8.87336000e-08,\n",
              "        2.94435676e-09, 8.77696093e-12],\n",
              "       [2.38273068e-09, 1.69687699e-15, 6.20348065e-13, 7.62414629e-08,\n",
              "        2.86180835e-09, 8.82847181e-12],\n",
              "       [6.26892149e-10, 1.33186359e-15, 4.13688045e-13, 4.94141759e-08,\n",
              "        2.14983187e-09, 6.69274141e-12],\n",
              "       [3.56808014e-04, 4.41355041e-09, 2.61229928e-07, 2.23956595e-04,\n",
              "        3.52649949e-05, 7.54384075e-07],\n",
              "       [2.24886998e-09, 3.38605508e-15, 1.02131704e-12, 8.94009062e-08,\n",
              "        4.13438039e-09, 1.42946184e-11],\n",
              "       [2.64661183e-04, 8.35036706e-10, 7.61995906e-08, 1.15709627e-04,\n",
              "        1.36558201e-05, 2.30692748e-07],\n",
              "       [9.22492802e-01, 1.16881030e-03, 1.69001371e-01, 1.99057218e-02,\n",
              "        5.89081764e-01, 2.70133354e-02]], dtype=float32)"
            ]
          },
          "metadata": {},
          "execution_count": 64
        }
      ]
    },
    {
      "cell_type": "code",
      "source": [
        "(model.predict(batch_X) > 0.5).astype(int)"
      ],
      "metadata": {
        "colab": {
          "base_uri": "https://localhost:8080/"
        },
        "id": "3KbbuSHtF6GV",
        "outputId": "856a9506-5810-4aa9-e6e4-29b7d7be998b"
      },
      "execution_count": 65,
      "outputs": [
        {
          "output_type": "stream",
          "name": "stdout",
          "text": [
            "1/1 [==============================] - 0s 88ms/step\n"
          ]
        },
        {
          "output_type": "execute_result",
          "data": {
            "text/plain": [
              "array([[0, 0, 0, 0, 0, 0],\n",
              "       [0, 0, 0, 0, 0, 0],\n",
              "       [0, 0, 0, 0, 0, 0],\n",
              "       [0, 0, 0, 0, 0, 0],\n",
              "       [0, 0, 0, 0, 0, 0],\n",
              "       [0, 0, 0, 0, 0, 0],\n",
              "       [0, 0, 0, 0, 0, 0],\n",
              "       [1, 0, 0, 0, 0, 0],\n",
              "       [0, 0, 0, 0, 0, 0],\n",
              "       [0, 0, 0, 0, 0, 0],\n",
              "       [0, 0, 0, 0, 0, 0],\n",
              "       [0, 0, 0, 0, 0, 0],\n",
              "       [0, 0, 0, 0, 0, 0],\n",
              "       [0, 0, 0, 0, 0, 0],\n",
              "       [0, 0, 0, 0, 0, 0],\n",
              "       [1, 0, 0, 0, 1, 0]])"
            ]
          },
          "metadata": {},
          "execution_count": 65
        }
      ]
    },
    {
      "cell_type": "code",
      "source": [
        "batch_y"
      ],
      "metadata": {
        "colab": {
          "base_uri": "https://localhost:8080/"
        },
        "id": "oZTkakJNGM3a",
        "outputId": "e546cbe7-23c6-437f-8b83-8e90a24d054a"
      },
      "execution_count": 66,
      "outputs": [
        {
          "output_type": "execute_result",
          "data": {
            "text/plain": [
              "array([[0, 0, 0, 0, 0, 0],\n",
              "       [0, 0, 0, 0, 0, 0],\n",
              "       [0, 0, 0, 0, 0, 0],\n",
              "       [0, 0, 0, 0, 0, 0],\n",
              "       [0, 0, 0, 0, 0, 0],\n",
              "       [0, 0, 0, 0, 0, 0],\n",
              "       [0, 0, 0, 0, 0, 0],\n",
              "       [1, 0, 0, 0, 0, 0],\n",
              "       [0, 0, 0, 0, 0, 0],\n",
              "       [0, 0, 0, 0, 0, 0],\n",
              "       [0, 0, 0, 0, 0, 0],\n",
              "       [0, 0, 0, 0, 0, 0],\n",
              "       [0, 0, 0, 0, 0, 0],\n",
              "       [0, 0, 0, 0, 0, 0],\n",
              "       [0, 0, 0, 0, 0, 0],\n",
              "       [1, 0, 0, 0, 1, 0]])"
            ]
          },
          "metadata": {},
          "execution_count": 66
        }
      ]
    },
    {
      "cell_type": "code",
      "source": [
        "from tensorflow.keras.metrics import Precision, Recall, CategoricalAccuracy"
      ],
      "metadata": {
        "id": "O8l6ITuZGPkX"
      },
      "execution_count": 67,
      "outputs": []
    },
    {
      "cell_type": "code",
      "source": [
        "pre = Precision()\n",
        "re = Recall()\n",
        "acc = CategoricalAccuracy()"
      ],
      "metadata": {
        "id": "nGlbjaUHGy_0"
      },
      "execution_count": 68,
      "outputs": []
    },
    {
      "cell_type": "code",
      "source": [
        "for batch in test.as_numpy_iterator():\n",
        "  # Unpack the batch\n",
        "  X_true, y_true = batch\n",
        "  yhat = model.predict(X_true)\n",
        "\n",
        "  # flatten the predictions\n",
        "  y_true = y_true.flatten()\n",
        "  yhat = yhat.flatten()\n",
        "\n",
        "  \n",
        "  pre.update_state(y_true, yhat)\n",
        "  re.update_state(y_true, yhat)\n",
        "  acc.update_state(y_true, yhat)"
      ],
      "metadata": {
        "colab": {
          "base_uri": "https://localhost:8080/"
        },
        "id": "u9-nxMbCG7w8",
        "outputId": "0cd18f3b-7835-450c-dd60-2d05ae091748"
      },
      "execution_count": 69,
      "outputs": [
        {
          "output_type": "stream",
          "name": "stdout",
          "text": [
            "1/1 [==============================] - 0s 68ms/step\n",
            "1/1 [==============================] - 0s 67ms/step\n",
            "1/1 [==============================] - 0s 88ms/step\n",
            "1/1 [==============================] - 0s 90ms/step\n",
            "1/1 [==============================] - 0s 90ms/step\n",
            "1/1 [==============================] - 0s 101ms/step\n",
            "1/1 [==============================] - 0s 66ms/step\n",
            "1/1 [==============================] - 0s 64ms/step\n",
            "1/1 [==============================] - 0s 63ms/step\n",
            "1/1 [==============================] - 0s 61ms/step\n",
            "1/1 [==============================] - 0s 60ms/step\n",
            "1/1 [==============================] - 0s 59ms/step\n",
            "1/1 [==============================] - 0s 59ms/step\n",
            "1/1 [==============================] - 0s 59ms/step\n",
            "1/1 [==============================] - 0s 61ms/step\n",
            "1/1 [==============================] - 0s 57ms/step\n",
            "1/1 [==============================] - 0s 54ms/step\n",
            "1/1 [==============================] - 0s 61ms/step\n",
            "1/1 [==============================] - 0s 56ms/step\n",
            "1/1 [==============================] - 0s 59ms/step\n",
            "1/1 [==============================] - 0s 63ms/step\n",
            "1/1 [==============================] - 0s 54ms/step\n",
            "1/1 [==============================] - 0s 57ms/step\n",
            "1/1 [==============================] - 0s 55ms/step\n",
            "1/1 [==============================] - 0s 54ms/step\n",
            "1/1 [==============================] - 0s 55ms/step\n",
            "1/1 [==============================] - 0s 56ms/step\n",
            "1/1 [==============================] - 0s 54ms/step\n",
            "1/1 [==============================] - 0s 60ms/step\n",
            "1/1 [==============================] - 0s 61ms/step\n"
          ]
        }
      ]
    },
    {
      "cell_type": "code",
      "source": [
        "print(f'precision: {pre.result().numpy()},Recall:{re.result().numpy()},Accuracy:{acc.result().numpy()}')"
      ],
      "metadata": {
        "colab": {
          "base_uri": "https://localhost:8080/"
        },
        "id": "hSQ0mpZMH3Dq",
        "outputId": "7f3e4659-a287-4779-e33e-8507243c1170"
      },
      "execution_count": 71,
      "outputs": [
        {
          "output_type": "stream",
          "name": "stdout",
          "text": [
            "precision: 0.9469026327133179,Recall:0.9385964870452881,Accuracy:0.4000000059604645\n"
          ]
        }
      ]
    },
    {
      "cell_type": "code",
      "source": [
        "!pip install gradio jinja2"
      ],
      "metadata": {
        "colab": {
          "base_uri": "https://localhost:8080/"
        },
        "id": "8vZTHF7sJTbv",
        "outputId": "f889ce9f-588d-4aa2-e524-83f6d235b85f"
      },
      "execution_count": 72,
      "outputs": [
        {
          "output_type": "stream",
          "name": "stdout",
          "text": [
            "Looking in indexes: https://pypi.org/simple, https://us-python.pkg.dev/colab-wheels/public/simple/\n",
            "Collecting gradio\n",
            "  Downloading gradio-3.15.0-py3-none-any.whl (13.8 MB)\n",
            "\u001b[K     |████████████████████████████████| 13.8 MB 15.6 MB/s \n",
            "\u001b[?25hRequirement already satisfied: jinja2 in /usr/local/lib/python3.8/dist-packages (2.11.3)\n",
            "Requirement already satisfied: markupsafe in /usr/local/lib/python3.8/dist-packages (from gradio) (2.0.1)\n",
            "Requirement already satisfied: pydantic in /usr/local/lib/python3.8/dist-packages (from gradio) (1.10.2)\n",
            "Collecting websockets>=10.0\n",
            "  Downloading websockets-10.4-cp38-cp38-manylinux_2_5_x86_64.manylinux1_x86_64.manylinux_2_17_x86_64.manylinux2014_x86_64.whl (106 kB)\n",
            "\u001b[K     |████████████████████████████████| 106 kB 72.6 MB/s \n",
            "\u001b[?25hRequirement already satisfied: fsspec in /usr/local/lib/python3.8/dist-packages (from gradio) (2022.11.0)\n",
            "Requirement already satisfied: pillow in /usr/local/lib/python3.8/dist-packages (from gradio) (7.1.2)\n",
            "Collecting markdown-it-py[linkify,plugins]\n",
            "  Downloading markdown_it_py-2.1.0-py3-none-any.whl (84 kB)\n",
            "\u001b[K     |████████████████████████████████| 84 kB 3.9 MB/s \n",
            "\u001b[?25hRequirement already satisfied: pandas in /usr/local/lib/python3.8/dist-packages (from gradio) (1.3.5)\n",
            "Requirement already satisfied: matplotlib in /usr/local/lib/python3.8/dist-packages (from gradio) (3.2.2)\n",
            "Collecting ffmpy\n",
            "  Downloading ffmpy-0.3.0.tar.gz (4.8 kB)\n",
            "Requirement already satisfied: requests in /usr/local/lib/python3.8/dist-packages (from gradio) (2.23.0)\n",
            "Collecting python-multipart\n",
            "  Downloading python-multipart-0.0.5.tar.gz (32 kB)\n",
            "Collecting httpx\n",
            "  Downloading httpx-0.23.2-py3-none-any.whl (86 kB)\n",
            "\u001b[K     |████████████████████████████████| 86 kB 6.1 MB/s \n",
            "\u001b[?25hRequirement already satisfied: pyyaml in /usr/local/lib/python3.8/dist-packages (from gradio) (6.0)\n",
            "Collecting orjson\n",
            "  Downloading orjson-3.8.3-cp38-cp38-manylinux_2_17_x86_64.manylinux2014_x86_64.whl (278 kB)\n",
            "\u001b[K     |████████████████████████████████| 278 kB 72.5 MB/s \n",
            "\u001b[?25hCollecting pycryptodome\n",
            "  Downloading pycryptodome-3.16.0-cp35-abi3-manylinux_2_5_x86_64.manylinux1_x86_64.manylinux_2_12_x86_64.manylinux2010_x86_64.whl (2.3 MB)\n",
            "\u001b[K     |████████████████████████████████| 2.3 MB 60.8 MB/s \n",
            "\u001b[?25hRequirement already satisfied: numpy in /usr/local/lib/python3.8/dist-packages (from gradio) (1.21.6)\n",
            "Requirement already satisfied: altair>=4.2.0 in /usr/local/lib/python3.8/dist-packages (from gradio) (4.2.0)\n",
            "Requirement already satisfied: aiohttp in /usr/local/lib/python3.8/dist-packages (from gradio) (3.8.3)\n",
            "Collecting pydub\n",
            "  Downloading pydub-0.25.1-py2.py3-none-any.whl (32 kB)\n",
            "Collecting uvicorn\n",
            "  Downloading uvicorn-0.20.0-py3-none-any.whl (56 kB)\n",
            "\u001b[K     |████████████████████████████████| 56 kB 5.9 MB/s \n",
            "\u001b[?25hCollecting fastapi\n",
            "  Downloading fastapi-0.88.0-py3-none-any.whl (55 kB)\n",
            "\u001b[K     |████████████████████████████████| 55 kB 4.1 MB/s \n",
            "\u001b[?25hRequirement already satisfied: toolz in /usr/local/lib/python3.8/dist-packages (from altair>=4.2.0->gradio) (0.12.0)\n",
            "Requirement already satisfied: jsonschema>=3.0 in /usr/local/lib/python3.8/dist-packages (from altair>=4.2.0->gradio) (4.3.3)\n",
            "Requirement already satisfied: entrypoints in /usr/local/lib/python3.8/dist-packages (from altair>=4.2.0->gradio) (0.4)\n",
            "Requirement already satisfied: importlib-resources>=1.4.0 in /usr/local/lib/python3.8/dist-packages (from jsonschema>=3.0->altair>=4.2.0->gradio) (5.10.1)\n",
            "Requirement already satisfied: attrs>=17.4.0 in /usr/local/lib/python3.8/dist-packages (from jsonschema>=3.0->altair>=4.2.0->gradio) (22.1.0)\n",
            "Requirement already satisfied: pyrsistent!=0.17.0,!=0.17.1,!=0.17.2,>=0.14.0 in /usr/local/lib/python3.8/dist-packages (from jsonschema>=3.0->altair>=4.2.0->gradio) (0.19.2)\n",
            "Requirement already satisfied: zipp>=3.1.0 in /usr/local/lib/python3.8/dist-packages (from importlib-resources>=1.4.0->jsonschema>=3.0->altair>=4.2.0->gradio) (3.11.0)\n",
            "Requirement already satisfied: pytz>=2017.3 in /usr/local/lib/python3.8/dist-packages (from pandas->gradio) (2022.6)\n",
            "Requirement already satisfied: python-dateutil>=2.7.3 in /usr/local/lib/python3.8/dist-packages (from pandas->gradio) (2.8.2)\n",
            "Requirement already satisfied: six>=1.5 in /usr/local/lib/python3.8/dist-packages (from python-dateutil>=2.7.3->pandas->gradio) (1.15.0)\n",
            "Requirement already satisfied: charset-normalizer<3.0,>=2.0 in /usr/local/lib/python3.8/dist-packages (from aiohttp->gradio) (2.1.1)\n",
            "Requirement already satisfied: aiosignal>=1.1.2 in /usr/local/lib/python3.8/dist-packages (from aiohttp->gradio) (1.3.1)\n",
            "Requirement already satisfied: async-timeout<5.0,>=4.0.0a3 in /usr/local/lib/python3.8/dist-packages (from aiohttp->gradio) (4.0.2)\n",
            "Requirement already satisfied: yarl<2.0,>=1.0 in /usr/local/lib/python3.8/dist-packages (from aiohttp->gradio) (1.8.2)\n",
            "Requirement already satisfied: multidict<7.0,>=4.5 in /usr/local/lib/python3.8/dist-packages (from aiohttp->gradio) (6.0.3)\n",
            "Requirement already satisfied: frozenlist>=1.1.1 in /usr/local/lib/python3.8/dist-packages (from aiohttp->gradio) (1.3.3)\n",
            "Requirement already satisfied: idna>=2.0 in /usr/local/lib/python3.8/dist-packages (from yarl<2.0,>=1.0->aiohttp->gradio) (2.10)\n",
            "Collecting starlette==0.22.0\n",
            "  Downloading starlette-0.22.0-py3-none-any.whl (64 kB)\n",
            "\u001b[K     |████████████████████████████████| 64 kB 3.9 MB/s \n",
            "\u001b[?25hCollecting anyio<5,>=3.4.0\n",
            "  Downloading anyio-3.6.2-py3-none-any.whl (80 kB)\n",
            "\u001b[K     |████████████████████████████████| 80 kB 8.8 MB/s \n",
            "\u001b[?25hRequirement already satisfied: typing-extensions>=3.10.0 in /usr/local/lib/python3.8/dist-packages (from starlette==0.22.0->fastapi->gradio) (4.4.0)\n",
            "Collecting sniffio>=1.1\n",
            "  Downloading sniffio-1.3.0-py3-none-any.whl (10 kB)\n",
            "Collecting httpcore<0.17.0,>=0.15.0\n",
            "  Downloading httpcore-0.16.3-py3-none-any.whl (69 kB)\n",
            "\u001b[K     |████████████████████████████████| 69 kB 7.7 MB/s \n",
            "\u001b[?25hRequirement already satisfied: certifi in /usr/local/lib/python3.8/dist-packages (from httpx->gradio) (2022.12.7)\n",
            "Collecting rfc3986[idna2008]<2,>=1.3\n",
            "  Downloading rfc3986-1.5.0-py2.py3-none-any.whl (31 kB)\n",
            "Collecting h11<0.15,>=0.13\n",
            "  Downloading h11-0.14.0-py3-none-any.whl (58 kB)\n",
            "\u001b[K     |████████████████████████████████| 58 kB 7.8 MB/s \n",
            "\u001b[?25hCollecting mdurl~=0.1\n",
            "  Downloading mdurl-0.1.2-py3-none-any.whl (10.0 kB)\n",
            "Collecting linkify-it-py~=1.0\n",
            "  Downloading linkify_it_py-1.0.3-py3-none-any.whl (19 kB)\n",
            "Collecting mdit-py-plugins\n",
            "  Downloading mdit_py_plugins-0.3.3-py3-none-any.whl (50 kB)\n",
            "\u001b[K     |████████████████████████████████| 50 kB 8.3 MB/s \n",
            "\u001b[?25hCollecting uc-micro-py\n",
            "  Downloading uc_micro_py-1.0.1-py3-none-any.whl (6.2 kB)\n",
            "Requirement already satisfied: cycler>=0.10 in /usr/local/lib/python3.8/dist-packages (from matplotlib->gradio) (0.11.0)\n",
            "Requirement already satisfied: kiwisolver>=1.0.1 in /usr/local/lib/python3.8/dist-packages (from matplotlib->gradio) (1.4.4)\n",
            "Requirement already satisfied: pyparsing!=2.0.4,!=2.1.2,!=2.1.6,>=2.0.1 in /usr/local/lib/python3.8/dist-packages (from matplotlib->gradio) (3.0.9)\n",
            "Requirement already satisfied: urllib3!=1.25.0,!=1.25.1,<1.26,>=1.21.1 in /usr/local/lib/python3.8/dist-packages (from requests->gradio) (1.24.3)\n",
            "Requirement already satisfied: chardet<4,>=3.0.2 in /usr/local/lib/python3.8/dist-packages (from requests->gradio) (3.0.4)\n",
            "Requirement already satisfied: click>=7.0 in /usr/local/lib/python3.8/dist-packages (from uvicorn->gradio) (7.1.2)\n",
            "Building wheels for collected packages: ffmpy, python-multipart\n",
            "  Building wheel for ffmpy (setup.py) ... \u001b[?25l\u001b[?25hdone\n",
            "  Created wheel for ffmpy: filename=ffmpy-0.3.0-py3-none-any.whl size=4711 sha256=699655dd7b60e671fa6d1b03950a4d561ca6f441167fec11f85224449467868d\n",
            "  Stored in directory: /root/.cache/pip/wheels/ff/5b/59/913b443e7369dc04b61f607a746b6f7d83fb65e2e19fcc958d\n",
            "  Building wheel for python-multipart (setup.py) ... \u001b[?25l\u001b[?25hdone\n",
            "  Created wheel for python-multipart: filename=python_multipart-0.0.5-py3-none-any.whl size=31678 sha256=36cfa30cdc49b88c9888cd035512bb8cee2084d04e621f1345d743ede1b27566\n",
            "  Stored in directory: /root/.cache/pip/wheels/9e/fc/1c/cf980e6413d3ee8e70cd8f39e2366b0f487e3e221aeb452eb0\n",
            "Successfully built ffmpy python-multipart\n",
            "Installing collected packages: sniffio, mdurl, uc-micro-py, rfc3986, markdown-it-py, h11, anyio, starlette, mdit-py-plugins, linkify-it-py, httpcore, websockets, uvicorn, python-multipart, pydub, pycryptodome, orjson, httpx, ffmpy, fastapi, gradio\n",
            "Successfully installed anyio-3.6.2 fastapi-0.88.0 ffmpy-0.3.0 gradio-3.15.0 h11-0.14.0 httpcore-0.16.3 httpx-0.23.2 linkify-it-py-1.0.3 markdown-it-py-2.1.0 mdit-py-plugins-0.3.3 mdurl-0.1.2 orjson-3.8.3 pycryptodome-3.16.0 pydub-0.25.1 python-multipart-0.0.5 rfc3986-1.5.0 sniffio-1.3.0 starlette-0.22.0 uc-micro-py-1.0.1 uvicorn-0.20.0 websockets-10.4\n"
          ]
        }
      ]
    },
    {
      "cell_type": "code",
      "source": [
        "import gradio as gr"
      ],
      "metadata": {
        "id": "bDosXlXVKKve"
      },
      "execution_count": 73,
      "outputs": []
    },
    {
      "cell_type": "code",
      "source": [
        "model.save('toxicity.h5')"
      ],
      "metadata": {
        "id": "1cjIGT1kKR13"
      },
      "execution_count": 74,
      "outputs": []
    },
    {
      "cell_type": "code",
      "source": [
        "model = tf.keras.models.load_model('toxicity.h5')"
      ],
      "metadata": {
        "id": "kg6_qrIcKY14"
      },
      "execution_count": 75,
      "outputs": []
    },
    {
      "cell_type": "code",
      "source": [
        "input_str = vectorizer('hey i freaking hate you!')"
      ],
      "metadata": {
        "id": "cSNHIU5rKpqk"
      },
      "execution_count": 76,
      "outputs": []
    },
    {
      "cell_type": "code",
      "source": [
        "res = model.predict(np.expand_dims(input_str,0))"
      ],
      "metadata": {
        "colab": {
          "base_uri": "https://localhost:8080/"
        },
        "id": "G_HMCRxNKyUI",
        "outputId": "13ad8605-7b19-4d93-b001-24fa07c12121"
      },
      "execution_count": 77,
      "outputs": [
        {
          "output_type": "stream",
          "name": "stdout",
          "text": [
            "1/1 [==============================] - 1s 962ms/step\n"
          ]
        }
      ]
    },
    {
      "cell_type": "code",
      "source": [
        "res"
      ],
      "metadata": {
        "colab": {
          "base_uri": "https://localhost:8080/"
        },
        "id": "vQBhvltcK7nu",
        "outputId": "4e7f5240-0bae-4255-f2a9-37dfe147c035"
      },
      "execution_count": 78,
      "outputs": [
        {
          "output_type": "execute_result",
          "data": {
            "text/plain": [
              "array([[9.9516559e-01, 4.4957010e-04, 2.0862286e-01, 7.9015624e-03,\n",
              "        3.9863974e-01, 5.5019693e-03]], dtype=float32)"
            ]
          },
          "metadata": {},
          "execution_count": 78
        }
      ]
    },
    {
      "cell_type": "code",
      "source": [
        "def score_comment(comment):\n",
        "  vectorized_comment = vectorizer([comment])\n",
        "  results = model.predict(vectorized_comment)\n",
        "\n",
        "  text = ''\n",
        "  for idx, col in enumerate(df.columns[2:]):\n",
        "    text += '{}: {}\\n'.format(col, results[0][idx]>0.5)\n",
        "\n",
        "    return text"
      ],
      "metadata": {
        "id": "1IA1HYKtK-91"
      },
      "execution_count": 80,
      "outputs": []
    },
    {
      "cell_type": "code",
      "source": [
        "interface = gr.Interface(fn=score_comment,\n",
        "                         inputs=gr.inputs.Textbox(lines=2, placeholder='comment to score'),\n",
        "                         outputs='text')"
      ],
      "metadata": {
        "colab": {
          "base_uri": "https://localhost:8080/"
        },
        "id": "yqrCqWsqMIcD",
        "outputId": "a460fd52-7e8b-43d5-b902-821bf52b7a89"
      },
      "execution_count": 81,
      "outputs": [
        {
          "output_type": "stream",
          "name": "stderr",
          "text": [
            "/usr/local/lib/python3.8/dist-packages/gradio/inputs.py:26: UserWarning: Usage of gradio.inputs is deprecated, and will not be supported in the future, please import your component from gradio.components\n",
            "  warnings.warn(\n",
            "/usr/local/lib/python3.8/dist-packages/gradio/deprecation.py:40: UserWarning: `optional` parameter is deprecated, and it has no effect\n",
            "  warnings.warn(value)\n",
            "/usr/local/lib/python3.8/dist-packages/gradio/deprecation.py:40: UserWarning: `numeric` parameter is deprecated, and it has no effect\n",
            "  warnings.warn(value)\n"
          ]
        }
      ]
    },
    {
      "cell_type": "code",
      "source": [
        "interface.launch(share=True)"
      ],
      "metadata": {
        "colab": {
          "base_uri": "https://localhost:8080/",
          "height": 610
        },
        "id": "iGSQbnLrM8Qm",
        "outputId": "3477f7ef-2b98-47f5-ff92-beef4f461bd3"
      },
      "execution_count": 82,
      "outputs": [
        {
          "output_type": "stream",
          "name": "stdout",
          "text": [
            "Colab notebook detected. To show errors in colab notebook, set debug=True in launch()\n",
            "Running on public URL: https://2b8a98e7-0a43-418e.gradio.live\n",
            "\n",
            "This share link expires in 72 hours. For free permanent hosting and GPU upgrades (NEW!), check out Spaces: https://huggingface.co/spaces\n"
          ]
        },
        {
          "output_type": "display_data",
          "data": {
            "text/plain": [
              "<IPython.core.display.HTML object>"
            ],
            "text/html": [
              "<div><iframe src=\"https://2b8a98e7-0a43-418e.gradio.live\" width=\"100%\" height=\"500\" allow=\"autoplay; camera; microphone; clipboard-read; clipboard-write;\" frameborder=\"0\" allowfullscreen></iframe></div>"
            ]
          },
          "metadata": {}
        },
        {
          "output_type": "execute_result",
          "data": {
            "text/plain": []
          },
          "metadata": {},
          "execution_count": 82
        }
      ]
    },
    {
      "cell_type": "code",
      "source": [],
      "metadata": {
        "id": "JwNAxCr-NGuX"
      },
      "execution_count": null,
      "outputs": []
    }
  ]
}